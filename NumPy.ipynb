{
 "cells": [
  {
   "cell_type": "code",
   "execution_count": 5,
   "id": "c7d8a0f1-b4ce-41bb-9f4d-d5495f17fef2",
   "metadata": {},
   "outputs": [],
   "source": [
    "# Numpy 라이브러리를 불러옵니다.\n",
    "#NumPy라는 단어를 앞으로 np 로 부르겠다는 문장입니다.\n",
    "import numpy as np"
   ]
  },
  {
   "cell_type": "code",
   "execution_count": 6,
   "id": "cc2e4962-7643-4cde-932a-029e3215b1a0",
   "metadata": {},
   "outputs": [],
   "source": [
    "#1차원 배열을 만들어 봅시다!\n",
    "a = np.array([_ for _ in range(5)])"
   ]
  },
  {
   "cell_type": "code",
   "execution_count": 7,
   "id": "53ba6ffa-cbac-471e-99e5-c74a724b7c1a",
   "metadata": {},
   "outputs": [
    {
     "data": {
      "text/plain": [
       "array([0, 1, 2, 3, 4])"
      ]
     },
     "execution_count": 7,
     "metadata": {},
     "output_type": "execute_result"
    }
   ],
   "source": [
    "#대화하는 형식처럼 코드를 짤 수 있기 때문에 print 없이도 맨 마지막 변수는 출력할 수 있습니다.\n",
    "a\n"
   ]
  },
  {
   "cell_type": "code",
   "execution_count": 8,
   "id": "1e21c91c-6554-49f9-9c32-1ac9dd939dfb",
   "metadata": {},
   "outputs": [
    {
     "name": "stdout",
     "output_type": "stream",
     "text": [
      "[0 1 2 3 4]\n",
      "[5 4 3 2 1]\n"
     ]
    },
    {
     "data": {
      "text/plain": [
       "array([5, 4, 3, 2, 1])"
      ]
     },
     "execution_count": 8,
     "metadata": {},
     "output_type": "execute_result"
    }
   ],
   "source": [
    "#위의 설명에 대한 예제 코드입니다.\n",
    "a = np.array([_ for _ in range(5)])\n",
    "b = np.array([_ for _ in range(5 , 0, -1)])\n",
    "print(a)\n",
    "print(b)\n",
    "\n",
    "a\n",
    "b"
   ]
  },
  {
   "cell_type": "code",
   "execution_count": 21,
   "id": "26deb64b-2fd1-48ed-89ce-b12890cc708d",
   "metadata": {},
   "outputs": [
    {
     "name": "stdout",
     "output_type": "stream",
     "text": [
      "[0 1 2 3 4]\n",
      "object type: <class 'numpy.ndarray'>\n",
      "  data type: int32\n",
      "      shape: (5,)\n",
      "  dimension: 1\n",
      " array size: 5\n"
     ]
    }
   ],
   "source": [
    "# 변수 a에 담긴 NumPy 1차원 배열의 정보들을 확인해 봅시다.\n",
    "# object type, data type, shape, dimension, array size\n",
    "# 아래의 문법은 f-string 문법입니다.\n",
    "\n",
    "print(f'{a}\\n{\"object type:\":>12} {type(a)}\\n{\"data type:\":>12} {a.dtype}\\n{\"shape:\":>12} \\\n",
    "{a.shape}\\n{\"dimension:\":>12} {a.ndim}\\n{\"array size:\":>12} {a.size}')"
   ]
  },
  {
   "cell_type": "code",
   "execution_count": 26,
   "id": "400fd082-4b73-435a-b973-0156e39edd14",
   "metadata": {},
   "outputs": [
    {
     "name": "stdout",
     "output_type": "stream",
     "text": [
      "[[[ 1  2  3  4  5]\n",
      "  [ 8  9 10 11 12]]\n",
      "\n",
      " [[ 4  5  6  7  8]\n",
      "  [10 11 12 13 14]]]\n",
      "object type: <class 'numpy.ndarray'>\n",
      "  data type: int32\n",
      "      shape: (2, 2, 5)\n",
      "  dimension: 3\n",
      " array size: 20\n"
     ]
    }
   ],
   "source": [
    "#다 차원 배열을 생성해 봅시다.\n",
    "#또한, b에 담긴 Numpy 다차원 배열의 정보들을 확인해 봅시다.\n",
    "\n",
    "b = np.array([[[1, 2, 3, 4, 5], [8, 9, 10, 11, 12]], [[4, 5, 6, 7, 8], [10, 11, 12, 13, 14]]])\n",
    "\n",
    "print(f'{b}\\n{\"object type:\":>12} {type(b)}\\n{\"data type:\":>12} {b.dtype}\\n{\"shape:\":>12} \\\n",
    "{b.shape}\\n{\"dimension:\":>12} {b.ndim}\\n{\"array size:\":>12} {b.size}')"
   ]
  },
  {
   "cell_type": "code",
   "execution_count": 33,
   "id": "96674428-5e03-46f4-a267-715fa595dcba",
   "metadata": {},
   "outputs": [
    {
     "name": "stdout",
     "output_type": "stream",
     "text": [
      "[[[ 1.  2.  3.  4.  5.]\n",
      "  [ 8.  9. 10. 11. 12.]]\n",
      "\n",
      " [[ 4.  5.  6.  7.  8.]\n",
      "  [10. 11. 12. 13. 14.]]]\n",
      "object type: <class 'numpy.ndarray'>\n",
      "  data type: float64\n",
      "      shape: (2, 2, 5)\n",
      "  dimension: 3\n",
      " array size: 20\n"
     ]
    }
   ],
   "source": [
    "# NumPy는 Array 안의 값들의 데이터 타입은 같다고 설명하였습니다.\n",
    "# 코드를 돌려보며, 실제로 어떻게 동작하는지 확인해 봅시다.\n",
    "\n",
    "c = np.array([[[1.0, 2, 3, 4, 5], [8.0, 9, 10, 11, 12]], [[4.0, 5, 6, 7, 8], [10.0, 11, 12, 13, 14]]])\n",
    "\n",
    "print(f'{c}\\n{\"object type:\":>12} {type(c)}\\n{\"data type:\":>12} {c.dtype}\\n{\"shape:\":>12} \\\n",
    "{c.shape}\\n{\"dimension:\":>12} {c.ndim}\\n{\"array size:\":>12} {c.size}')\n",
    "\n",
    "# data type이 int32가 아닌 float64가 된 것을 확인해 볼 수 있습니다."
   ]
  },
  {
   "cell_type": "code",
   "execution_count": 34,
   "id": "b4825816-91c2-48c4-b237-120304a603ff",
   "metadata": {},
   "outputs": [
    {
     "name": "stdout",
     "output_type": "stream",
     "text": [
      "[5 7 9]\n",
      "[ 5 10 15]\n",
      "[5. 4. 3.]\n"
     ]
    }
   ],
   "source": [
    "#배열의 간단한 연산입니다.\n",
    "#배열을 연산하고자 할 때는 꼭! 크기를 맞춰야 합니다.\n",
    "\n",
    "#덧셈 연산\n",
    "a = np.array([1, 2, 3])\n",
    "b = np.array([4, 5, 6])\n",
    "c = a+b\n",
    "print(c)\n",
    "\n",
    "#뺄셈 연산\n",
    "d = np.array([10, 20, 30])\n",
    "e = np.array([5, 10, 15])\n",
    "f = d - e\n",
    "print(f)\n",
    "\n",
    "#나눗셈 연산\n",
    "j = np.array([10, 20, 30])\n",
    "k = np.array([2, 5, 10])\n",
    "l = j/k\n",
    "print(l)"
   ]
  },
  {
   "cell_type": "code",
   "execution_count": null,
   "id": "d7499b21-f2a6-4924-a602-8e88091a356a",
   "metadata": {},
   "outputs": [],
   "source": []
  }
 ],
 "metadata": {
  "kernelspec": {
   "display_name": "Python 3 (ipykernel)",
   "language": "python",
   "name": "python3"
  },
  "language_info": {
   "codemirror_mode": {
    "name": "ipython",
    "version": 3
   },
   "file_extension": ".py",
   "mimetype": "text/x-python",
   "name": "python",
   "nbconvert_exporter": "python",
   "pygments_lexer": "ipython3",
   "version": "3.7.16"
  }
 },
 "nbformat": 4,
 "nbformat_minor": 5
}
